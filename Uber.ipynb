{
 "cells": [
  {
   "cell_type": "code",
   "execution_count": 1,
   "id": "79754647-4003-4530-a043-117e79621211",
   "metadata": {},
   "outputs": [
    {
     "name": "stdout",
     "output_type": "stream",
     "text": [
      "+---------------+---------------+-----------+-------------------+-------------+-------+-----------------+---------------+-------------+---------+------------+---------------+--------------+----------------------+---------+----------------+------------+--------------+----------------+--------+-----------+\n",
      "|Pickup DateTime|  Drop DateTime|Driver Name|Driver Phone Number|Trip Distance|Trip ID|  Pickup Location|  Drop Location|Trip Duration|Trip Fare|Vehicle Type|   Trip Purpose|Passenger Name|Passenger Phone Number|Scheduled|Passenger Rating|Driver Rated|Payment Method|Payment Discount|Net Fare|Trip Status|\n",
      "+---------------+---------------+-----------+-------------------+-------------+-------+-----------------+---------------+-------------+---------+------------+---------------+--------------+----------------------+---------+----------------+------------+--------------+----------------+--------+-----------+\n",
      "| 1/1/2016 21:11| 1/1/2016 21:17|     Almire|         9298608912|           21| 318886|      Fort Pierce|    Fort Pierce|          5.1|    49.98|        Bike| Meal/Entertain|       Johanna|            9181026109|      YES|             3.6|         YES|          Gpay|              0%|   49.98|  Cancelled|\n",
      "| 1/2/2016 20:25| 1/2/2016 20:38|    Frazier|         8621617385|           27| 318886|      Fort Pierce|    Fort Pierce|          4.8|    47.04|        Bike|Errand/Supplies|       Charlot|            9855403124|      YES|             4.5|         YES|        Phonpe|              0%|   47.04|    Arrived|\n",
      "| 1/5/2016 17:31| 1/5/2016 17:45|     Editha|         9954004976|           20| 318886|      Fort Pierce|    Fort Pierce|          4.7|    46.06|        Bike|        Meeting|         Cissy|            9328907059|      YES|             4.8|         YES|         Paytm|              0%|   46.06|   Assigned|\n",
      "| 1/6/2016 14:42| 1/6/2016 15:49|      Deeyn|         9885727873|           34| 318886|      Fort Pierce|West Palm Beach|         63.7|   624.26|        Bike| Customer Visit|        Luelle|            9774674359|       NO|             4.9|         YES|   Uber wallet|             10%| 561.834|   Assigned|\n",
      "| 1/6/2016 17:15| 1/6/2016 17:19|     Correy|         9661756645|           28| 475241|  West Palm Beach|West Palm Beach|          4.3|    42.14|        Bike| Meal/Entertain|         Myrle|            9425892986|       NO|             5.0|          NO|          cash|              0%|   42.14|   Assigned|\n",
      "| 1/6/2016 17:30| 1/6/2016 17:35|      Bryan|         8721880095|           50| 475241|  West Palm Beach|     Palm Beach|          7.1|    69.58|        Bike|        Meeting|        Duncan|            9611855033|      YES|             3.0|         YES|   Uber wallet|             10%|  76.538|    Arrived|\n",
      "| 1/7/2016 13:27| 1/7/2016 13:33|     Crissy|         8579258893|           68| 265814|             Cary|           Cary|          0.8|     7.84|        Bike|        Meeting|        Carine|            9700998304|      YES|             3.6|         YES|   Uber wallet|             10%|   8.624|   Assigned|\n",
      "| 1/10/2016 8:05| 1/10/2016 8:25|     Kendre|         8900099665|           31| 265814|             Cary|    Morrisville|          8.3|    81.34|        Bike|        Meeting|      Collette|            9212537431|      YES|             3.9|         YES|   Uber wallet|             10%|  89.474|   Assigned|\n",
      "|1/10/2016 12:17|1/10/2016 12:44|      Aymer|         9918333307|           47| 386077|          Jamaica|       New York|         16.5|    161.7|        Bike| Customer Visit|        Killie|            9426616674|       NO|             4.2|         YES|   Uber wallet|             10%|  177.87|    Arrived|\n",
      "|1/10/2016 15:08|1/10/2016 15:51|     Gabbey|         9050095157|           59| 125733|         New York|         Queens|         10.8|   105.84|        Bike|        Meeting|       Ellette|            8949025277|       NO|             4.8|          NO|          cash|              0%|  105.84|   Assigned|\n",
      "|1/10/2016 18:18|1/10/2016 18:53|      Cammi|         7884885405|           19| 646882|         Elmhurst|       New York|          7.5|     73.5|        Bike|        Meeting|         Amara|            9247349792|      YES|             3.6|         YES|          Gpay|              0%|    73.5|   Assigned|\n",
      "|1/10/2016 19:12|1/10/2016 19:32|    Carlyle|         8333928562|           22| 625132|          Midtown|    East Harlem|          6.2|    60.76|        Bike|        Meeting|        Ashlee|            9332965757|      YES|             4.5|         YES|          Gpay|              0%|   60.76|    Arrived|\n",
      "| 1/11/2016 8:55| 1/11/2016 9:21|   Zedekiah|         8283676665|           74| 210314|      East Harlem|          NoMad|          6.4|    62.72|        Bike| Temporary Site|           Kim|            9267421665|      YES|             4.8|         YES|        Phonpe|              0%|   62.72|   Assigned|\n",
      "|1/11/2016 11:56|1/11/2016 12:03|      Sioux|         8362408033|           75| 484320|Flatiron District|        Midtown|          1.6|    15.68|        Bike|Errand/Supplies|         Jacky|            9472034451|       NO|             4.9|         YES|         Paytm|              0%|   15.68|    Arrived|\n",
      "|1/11/2016 13:32|1/11/2016 13:46|    Mathian|         9734846586|           62| 625132|          Midtown|   Midtown East|          1.7|    16.66|        Bike| Meal/Entertain|        Mikkel|            9117822322|       NO|             5.0|          NO|   Uber wallet|             10%|  14.994|    Arrived|\n",
      "|1/11/2016 14:30|1/11/2016 14:43|     Maggie|         7951534876|           36| 491563|     Midtown East|        Midtown|          1.9|    18.62|        Bike| Meal/Entertain|          Geri|            9738692778|      YES|             3.0|         YES|          cash|              0%|   18.62|    Arrived|\n",
      "|1/12/2016 12:33|1/12/2016 12:49|    Maurice|         7932768286|           40| 625132|          Midtown|  Hudson Square|          1.9|    18.62|        Bike| Meal/Entertain|     Stanislas|            9564616492|      YES|             3.6|         YES|   Uber wallet|             10%|  20.482|   Assigned|\n",
      "|1/12/2016 12:53|1/12/2016 13:09|       Timi|         9323566102|           35| 509117|    Hudson Square|Lower Manhattan|          4.0|     39.2|        Bike| Meal/Entertain|          Yvon|            9985025265|      YES|             3.9|         YES|   Uber wallet|             10%|   43.12|    Arrived|\n",
      "|1/12/2016 14:42|1/12/2016 14:56|      Janey|         8572258661|           55| 223672|  Lower Manhattan|  Hudson Square|          1.8|    17.64|        Bike|Errand/Supplies|         Jaine|            9593730071|       NO|             4.2|         YES|   Uber wallet|             10%|  19.404|   Assigned|\n",
      "|1/12/2016 15:13|1/12/2016 15:28|    Huntlee|         9974250697|           32| 318886|      Fort Pierce| Hell's Kitchen|          2.4|    23.52|        Bike| Customer Visit|          Abbi|            9652057745|       NO|             4.8|          NO|   Uber wallet|             10%|  25.872|   Assigned|\n",
      "+---------------+---------------+-----------+-------------------+-------------+-------+-----------------+---------------+-------------+---------+------------+---------------+--------------+----------------------+---------+----------------+------------+--------------+----------------+--------+-----------+\n",
      "only showing top 20 rows\n",
      "\n"
     ]
    }
   ],
   "source": [
    "from pyspark.sql import SparkSession\n",
    "\n",
    "# Initialize Spark session\n",
    "spark = SparkSession.builder.appName(\"CustomerFileLoad\").getOrCreate()\n",
    "\n",
    "# Load customer file (assuming it's a CSV)\n",
    "customer_df = spark.read.csv(\"Customer_table.csv\", header=True, inferSchema=True)\n",
    "# Show a sample of the data\n",
    "customer_df.show()"
   ]
  },
  {
   "cell_type": "code",
   "execution_count": 3,
   "id": "be8ffa8f-c954-4a1c-a5f5-5d40b73ea877",
   "metadata": {},
   "outputs": [
    {
     "name": "stdout",
     "output_type": "stream",
     "text": [
      "+---------------+---------------+--------+----------+---+---------+-----------------+-----------+---------------+-----+-----------+-------------+---------------+-----+------+--------+--------+-----+-------------+---------+---------+---------+----------+----------+-----------+--------------+---------------+---------+----------+------------+--------+----------+---------+\n",
      "|     Start_time|       End_time|    Name|    Mobile|Age|Pin-Codes|           Source|Vaccine_cus|    Destination|Miles|Est_Costing|Ride_category|        Purpose| temp|clouds|pressure|humidity| wind|accquire_vehi|free_vehi|Lattitute|Longitude|locationID|rating_cus|Riders_Name|Riders_contact|Trusted_Contact|Rating_RI|Vaccine_Ri|Payment_mode|Discount|Final_cost|   Status|\n",
      "+---------------+---------------+--------+----------+---+---------+-----------------+-----------+---------------+-----+-----------+-------------+---------------+-----+------+--------+--------+-----+-------------+---------+---------+---------+----------+----------+-----------+--------------+---------------+---------+----------+------------+--------+----------+---------+\n",
      "| 1/1/2016 21:11| 1/1/2016 21:17|  Almire|9298608912| 21|   318886|      Fort Pierce|        YES|    Fort Pierce|  5.1|      49.98|         Bike| Meal/Entertain|42.42|   1.0| 1012.14|    0.77|11.25|           26|       17|   40.769| -73.9549|       141|         3|    Johanna|    9181026109|            YES|      3.6|       YES|        Gpay|      0%|     49.98|Cancelled|\n",
      "| 1/2/2016 20:25| 1/2/2016 20:38| Frazier|8621617385| 27|   318886|      Fort Pierce|        YES|    Fort Pierce|  4.8|      47.04|         Bike|Errand/Supplies|42.43|   1.0| 1012.15|    0.76|11.32|           45|       24|  40.7267| -74.0345|        65|         4|    Charlot|    9855403124|            YES|      4.5|       YES|      Phonpe|      0%|     47.04|  Arrived|\n",
      "| 1/5/2016 17:31| 1/5/2016 17:45|  Editha|9954004976| 20|   318886|      Fort Pierce|        YES|    Fort Pierce|  4.7|      46.06|         Bike|        Meeting| 42.5|   1.0| 1012.15|    0.76|11.07|          731|       36|  40.7316| -73.9873|       100|         5|      Cissy|    9328907059|            YES|      4.8|       YES|       Paytm|      0%|     46.06| Assigned|\n",
      "| 1/6/2016 14:42| 1/6/2016 15:49|   Deeyn|9885727873| 34|   318886|      Fort Pierce|        YES|West Palm Beach| 63.7|     624.26|         Bike| Customer Visit|42.11|   1.0| 1012.13|    0.77|11.09|           10|        9|  40.7588| -73.9776|        80|         2|     Luelle|    9774674359|             NO|      4.9|       YES| Uber wallet|     10%|   561.834| Assigned|\n",
      "| 1/6/2016 17:15| 1/6/2016 17:19|  Correy|9661756645| 28|   475241|  West Palm Beach|         NO|West Palm Beach|  4.3|      42.14|         Bike| Meal/Entertain|43.13|   1.0| 1012.14|    0.75|11.49|          814|       62|  40.7594| -73.9722|        90|         3|      Myrle|    9425892986|             NO|      5.0|        NO|        cash|      0%|     42.14| Assigned|\n",
      "| 1/6/2016 17:30| 1/6/2016 17:35|   Bryan|8721880095| 50|   475241|  West Palm Beach|        YES|     Palm Beach|  7.1|      69.58|         Bike|        Meeting|42.34|   1.0| 1012.15|    0.77|11.49|          220|       46|  40.7383| -74.0403|       228|         4|     Duncan|    9611855033|            YES|      3.0|       YES| Uber wallet|     10%|    62.622|  Arrived|\n",
      "| 1/7/2016 13:27| 1/7/2016 13:33|  Crissy|8579258893| 68|   265814|             Cary|        YES|           Cary|  0.8|       7.84|         Bike|        Meeting|42.36|   1.0| 1012.15|    0.77|11.46|           36|       28|  40.7223| -73.9887|         7|         5|     Carine|    9700998304|            YES|      3.6|       YES| Uber wallet|     10%|     7.056| Assigned|\n",
      "| 1/10/2016 8:05| 1/10/2016 8:25|  Kendre|8900099665| 31|   265814|             Cary|        YES|    Morrisville|  8.3|      81.34|         Bike|        Meeting|42.21|   1.0| 1012.16|    0.77|11.37|         1137|      106|   40.762|  -73.979|        74|         5|   Collette|    9212537431|            YES|      3.9|       YES| Uber wallet|     10%|    73.206| Assigned|\n",
      "|1/10/2016 12:17|1/10/2016 12:44|   Aymer|9918333307| 47|   386077|          Jamaica|        YES|       New York| 16.5|      161.7|         Bike| Customer Visit|42.07|   1.0| 1012.12|    0.78|11.28|          236|      103|  40.7524|  -73.996|       249|         5|     Killie|    9426616674|             NO|      4.2|       YES| Uber wallet|     10%|    145.53|  Arrived|\n",
      "|1/10/2016 15:08|1/10/2016 15:51|  Gabbey|9050095157| 59|   125733|         New York|         NO|         Queens| 10.8|     105.84|         Bike|        Meeting|43.05|   1.0| 1012.12|    0.75|11.58|           47|       29|  40.7575| -73.9846|        22|         4|    Ellette|    8949025277|             NO|      4.8|        NO|        cash|      0%|    105.84| Assigned|\n",
      "|1/10/2016 18:18|1/10/2016 18:53|   Cammi|7884885405| 19|   646882|         Elmhurst|        YES|       New York|  7.5|       73.5|         Bike|        Meeting|42.09|   1.0| 1012.13|    0.78|11.41|         1792|      119|  40.7256| -73.9869|       263|         4|      Amara|    9247349792|            YES|      3.6|       YES|        Gpay|      0%|      73.5| Assigned|\n",
      "|1/10/2016 19:12|1/10/2016 19:32| Carlyle|8333928562| 22|   625132|          Midtown|        YES|    East Harlem|  6.2|      60.76|         Bike|        Meeting|43.28|  0.81|  990.81|    0.71|  8.3|           23|       13|  40.7591| -73.9684|        61|         3|     Ashlee|    9332965757|            YES|      4.5|       YES|        Gpay|      0%|     60.76|  Arrived|\n",
      "| 1/11/2016 8:55| 1/11/2016 9:21|Zedekiah|8283676665| 74|   210314|      East Harlem|        YES|          NoMad|  6.4|      62.72|         Bike| Temporary Site|43.27|   0.8|   990.8|    0.71|  8.3|           83|       20|  40.7271| -73.9803|       229|         3|        Kim|    9267421665|            YES|      4.8|       YES|      Phonpe|      0%|     62.72| Assigned|\n",
      "|1/11/2016 11:56|1/11/2016 12:03|   Sioux|8362408033| 75|   484320|Flatiron District|        YES|        Midtown|  1.6|      15.68|         Bike|Errand/Supplies|43.35|  0.82|  990.82|    0.71| 8.24|         1846|       86|  40.6463| -73.7896|       164|         5|      Jacky|    9472034451|             NO|      4.9|       YES|       Paytm|      0%|     15.68|  Arrived|\n",
      "|1/11/2016 13:32|1/11/2016 13:46| Mathian|9734846586| 62|   625132|          Midtown|         NO|   Midtown East|  1.7|      16.66|         Bike| Meal/Entertain|43.07|  0.82|  990.82|    0.72| 8.28|           57|       39|  40.7564| -73.9167|       237|         5|     Mikkel|    9117822322|             NO|      5.0|        NO| Uber wallet|     10%|    14.994|  Arrived|\n",
      "|1/11/2016 14:30|1/11/2016 14:43|  Maggie|7951534876| 36|   491563|     Midtown East|        YES|        Midtown|  1.9|      18.62|         Bike| Meal/Entertain|43.35|   0.8|   990.8|    0.71| 8.35|            9|        8|  40.7666| -73.9531|       142|         4|       Geri|    9738692778|            YES|      3.0|       YES|        cash|      0%|     18.62|  Arrived|\n",
      "|1/12/2016 12:33|1/12/2016 12:49| Maurice|7932768286| 40|   625132|          Midtown|        YES|  Hudson Square|  1.9|      18.62|         Bike| Meal/Entertain| 43.2|   0.8|  990.79|    0.71| 8.31|            4|        2|   40.758| -73.9761|       188|         5|  Stanislas|    9564616492|            YES|      3.6|       YES| Uber wallet|     10%|    16.758| Assigned|\n",
      "|1/12/2016 12:53|1/12/2016 13:09|    Timi|9323566102| 35|   509117|    Hudson Square|        YES|Lower Manhattan|  4.0|       39.2|         Bike| Meal/Entertain|43.24|   0.8|  990.79|    0.71| 8.32|           81|       37|  40.7238| -73.9821|       237|         5|       Yvon|    9985025265|            YES|      3.9|       YES| Uber wallet|     10%|     35.28|  Arrived|\n",
      "|1/12/2016 14:42|1/12/2016 14:56|   Janey|8572258661| 55|   223672|  Lower Manhattan|        YES|  Hudson Square|  1.8|      17.64|         Bike|Errand/Supplies|41.95|  0.81|  991.63|    0.73|10.87|         1765|      579|  40.7531| -74.0039|       224|         5|      Jaine|    9593730071|             NO|      4.2|       YES| Uber wallet|     10%|    15.876| Assigned|\n",
      "|1/12/2016 15:13|1/12/2016 15:28| Huntlee|9974250697| 32|   318886|      Fort Pierce|         NO| Hell's Kitchen|  2.4|      23.52|         Bike| Customer Visit|43.05|  0.81|  990.82|    0.72| 8.31|          766|       65|  40.7389| -74.0393|       238|         5|       Abbi|    9652057745|             NO|      4.8|        NO| Uber wallet|     10%|    21.168| Assigned|\n",
      "+---------------+---------------+--------+----------+---+---------+-----------------+-----------+---------------+-----+-----------+-------------+---------------+-----+------+--------+--------+-----+-------------+---------+---------+---------+----------+----------+-----------+--------------+---------------+---------+----------+------------+--------+----------+---------+\n",
      "only showing top 20 rows\n",
      "\n"
     ]
    }
   ],
   "source": [
    "Admin_df = spark.read.csv(\"Admin_data.csv\", header=True, inferSchema=True)\n",
    "# Show a sample of the data\n",
    "Admin_df.show()"
   ]
  },
  {
   "cell_type": "markdown",
   "id": "5349b58c-49b9-4d1f-9d41-f7f4c82ee24f",
   "metadata": {},
   "source": [
    "1.How many no of customers take trip from\n",
    "same location."
   ]
  },
  {
   "cell_type": "code",
   "execution_count": 6,
   "id": "2adc751f-62be-46e6-8188-1ceca7e95415",
   "metadata": {},
   "outputs": [
    {
     "name": "stdout",
     "output_type": "stream",
     "text": [
      "+-----------------+--------------+\n",
      "|  Pickup Location|customer_count|\n",
      "+-----------------+--------------+\n",
      "|      Fort Pierce|           108|\n",
      "|  Lower Manhattan|            26|\n",
      "|          Midtown|            78|\n",
      "|     Midtown East|            26|\n",
      "|Flatiron District|            26|\n",
      "|      East Harlem|            26|\n",
      "|    Hudson Square|            26|\n",
      "|  West Palm Beach|            54|\n",
      "|          Jamaica|            26|\n",
      "|             Cary|            52|\n",
      "|         New York|            26|\n",
      "|         Elmhurst|            26|\n",
      "+-----------------+--------------+\n",
      "\n"
     ]
    }
   ],
   "source": [
    "from pyspark.sql.functions import count\n",
    "same_triploc = customer_df.groupBy(\"Pickup Location\").agg(count(\"Passenger Name\").alias(\"customer_count\"))\n",
    "same_triploc.show()"
   ]
  },
  {
   "cell_type": "markdown",
   "id": "8558933f-48fa-4f52-b47e-497cd81cf27d",
   "metadata": {},
   "source": [
    "2.what is priority for each ride category from\n",
    "each location."
   ]
  },
  {
   "cell_type": "code",
   "execution_count": 19,
   "id": "b46051cd-73f1-45f6-af1c-ef8c3c077a27",
   "metadata": {},
   "outputs": [
    {
     "name": "stdout",
     "output_type": "stream",
     "text": [
      "+-----------------+-------------+--------------+\n",
      "|           Source|Ride_category|category_count|\n",
      "+-----------------+-------------+--------------+\n",
      "|             Cary|        Prime|            12|\n",
      "|      East Harlem|         Bike|             6|\n",
      "|         Elmhurst|         Auto|             6|\n",
      "|Flatiron District|    Uber-Mini|             6|\n",
      "|      Fort Pierce|         Bike|            25|\n",
      "|    Hudson Square|        Prime|             6|\n",
      "|          Jamaica|        Prime|             6|\n",
      "|  Lower Manhattan|         Auto|             6|\n",
      "|          Midtown|    Uber-Mini|            17|\n",
      "|     Midtown East|        Prime|             6|\n",
      "|         New York|         Auto|             6|\n",
      "|  West Palm Beach|         Bike|            13|\n",
      "+-----------------+-------------+--------------+\n",
      "\n"
     ]
    }
   ],
   "source": [
    "from pyspark.sql.functions import count, col\n",
    "result = Admin_df.groupBy(\"Source\", \"Ride_category\").agg(count(\"*\").alias(\"category_count\"))\n",
    "max_result = result.orderBy(col(\"Source\"), col(\"category_count\").desc())\n",
    "final_df = max_result.dropDuplicates([\"Source\"])\n",
    "final_df.show()\n",
    "# max_result.show()\n",
    "\n",
    "\n",
    "\n",
    "\n",
    "\n"
   ]
  },
  {
   "cell_type": "markdown",
   "id": "43039fab-771b-40cf-8ee5-cf380b617fbc",
   "metadata": {},
   "source": [
    "3.what are the longest locations of customer\n",
    "travelled."
   ]
  },
  {
   "cell_type": "code",
   "execution_count": 11,
   "id": "82fd5e05-a892-48a6-94a6-6385a43ed4af",
   "metadata": {},
   "outputs": [
    {
     "name": "stdout",
     "output_type": "stream",
     "text": [
      "+--------------+---------------+-------------+-------------+\n",
      "|Passenger Name|Pickup Location|Drop Location|Trip Distance|\n",
      "+--------------+---------------+-------------+-------------+\n",
      "|      Virginie|       Elmhurst|         Cary|           80|\n",
      "|      Charlena|   Midtown East|       Durham|           80|\n",
      "|         Price|    East Harlem|  Whitebridge|           80|\n",
      "|      Darlleen|    Fort Pierce|         Cary|           80|\n",
      "|        Haskel|           Cary|  Whitebridge|           80|\n",
      "|         Jacky|West Palm Beach|      Houston|           80|\n",
      "|      Collette|    Fort Pierce|   Tanglewood|           80|\n",
      "|          Moss|Lower Manhattan|  Morrisville|           80|\n",
      "|          Elsy|       New York|         Cary|           79|\n",
      "|         Daron|    Fort Pierce|         Cary|           79|\n",
      "+--------------+---------------+-------------+-------------+\n",
      "\n"
     ]
    }
   ],
   "source": [
    "from pyspark.sql.functions import col\n",
    "longesttrip_df = customer_df.orderBy(col(\"Trip Distance\").desc()).select(\"Passenger Name\", \"Pickup Location\", \"Drop Location\",\"Trip Distance\").limit(10)\n",
    "longesttrip_df.show()"
   ]
  },
  {
   "cell_type": "markdown",
   "id": "913c0393-7de4-46f3-9846-bb857aba04b0",
   "metadata": {},
   "source": [
    "4. Drivers who completed ride with non\n",
    "-vaccinated customers."
   ]
  },
  {
   "cell_type": "code",
   "execution_count": 4,
   "id": "5e1f05bb-10ec-4fba-8c9d-73b085a56ce5",
   "metadata": {},
   "outputs": [
    {
     "name": "stdout",
     "output_type": "stream",
     "text": [
      "+--------+\n",
      "|    Name|\n",
      "+--------+\n",
      "| Mathian|\n",
      "|  Horten|\n",
      "|   Boyce|\n",
      "|    Berk|\n",
      "|  Aubert|\n",
      "| Stavros|\n",
      "|  Norene|\n",
      "|  Stefan|\n",
      "| Cassius|\n",
      "|   Chadd|\n",
      "|  Joelle|\n",
      "|   Abbey|\n",
      "|  Kristo|\n",
      "|   Lesli|\n",
      "|    Marv|\n",
      "| Sherwin|\n",
      "|    Andi|\n",
      "|   Adamo|\n",
      "|Ernaline|\n",
      "| Balduin|\n",
      "+--------+\n",
      "only showing top 20 rows\n",
      "\n"
     ]
    }
   ],
   "source": [
    "completed_rides_df = Admin_df.filter(Admin_df[\"Status\"] == \"Arrived\")\n",
    "nonvccus_df = completed_rides_df.filter(Admin_df[\"Vaccine_cus\"] == \"NO\").select(\"Name\")\n",
    "nonvccus_df.show()\n"
   ]
  },
  {
   "cell_type": "markdown",
   "id": "84c63ddd-75fe-450a-8ef4-6f9e649ccd84",
   "metadata": {},
   "source": [
    "5.How many vaccinated customers have\n",
    "travelled."
   ]
  },
  {
   "cell_type": "code",
   "execution_count": 31,
   "id": "913400fc-85af-4fb2-a87e-17e2a145a2a4",
   "metadata": {},
   "outputs": [
    {
     "name": "stdout",
     "output_type": "stream",
     "text": [
      "+-------------------------+\n",
      "|vaccinated_customer_count|\n",
      "+-------------------------+\n",
      "|                      400|\n",
      "+-------------------------+\n",
      "\n"
     ]
    }
   ],
   "source": [
    "from pyspark.sql.functions import count\n",
    "countcdv_df = Admin_df.filter(Admin_df[\"Vaccine_cus\"] == \"YES\").agg(count(\"Riders_Name\").alias(\"vaccinated_customer_count\"))\n",
    "countcdv_df.show()\n"
   ]
  },
  {
   "cell_type": "markdown",
   "id": "83af5fce-e6c9-4dc1-9e86-20cdb1548a59",
   "metadata": {},
   "source": [
    "6.Customers who completed ride with non\n",
    "-vaccinated Drivers."
   ]
  },
  {
   "cell_type": "code",
   "execution_count": 5,
   "id": "1f72488f-10a2-492f-aeac-97da2785cce6",
   "metadata": {},
   "outputs": [
    {
     "name": "stdout",
     "output_type": "stream",
     "text": [
      "+-----------+\n",
      "|Riders_Name|\n",
      "+-----------+\n",
      "|     Mikkel|\n",
      "|        Kip|\n",
      "|      Cindi|\n",
      "|    Yasmeen|\n",
      "|       Burk|\n",
      "|      Natty|\n",
      "|       Kain|\n",
      "|      Sandy|\n",
      "|   Kimberly|\n",
      "|    Carolus|\n",
      "|       Dora|\n",
      "|    Romonda|\n",
      "|    Ellette|\n",
      "|     Mikkel|\n",
      "|       Abbi|\n",
      "|     Pattin|\n",
      "|     Haskel|\n",
      "|      Cindi|\n",
      "|    Yasmeen|\n",
      "|       Burk|\n",
      "+-----------+\n",
      "only showing top 20 rows\n",
      "\n"
     ]
    }
   ],
   "source": [
    "completed_rides_df = Admin_df.filter(Admin_df[\"Status\"] == \"Arrived\")\n",
    "nonvaccinerd_df = completed_rides_df.filter(Admin_df[\"Vaccine_ri\"] == \"NO\").select(\"Riders_Name\")\n",
    "nonvaccinerd_df.show()"
   ]
  },
  {
   "cell_type": "markdown",
   "id": "a7810389-de16-4183-ba47-c6f24bfa37d2",
   "metadata": {},
   "source": [
    "7.who is the customer completed highest no\n",
    "of rides."
   ]
  },
  {
   "cell_type": "code",
   "execution_count": 24,
   "id": "0ed9a137-4487-46fb-823f-b086839c75c6",
   "metadata": {},
   "outputs": [
    {
     "name": "stdout",
     "output_type": "stream",
     "text": [
      "+--------------+----------+\n",
      "|Passenger Name|trip_count|\n",
      "+--------------+----------+\n",
      "|          Cher|        10|\n",
      "+--------------+----------+\n",
      "\n"
     ]
    }
   ],
   "source": [
    "from pyspark.sql.functions import count, max\n",
    "trip_count_df = customer_df.groupBy(\"Passenger Name\").agg(count(\"Trip ID\").alias(\"trip_count\"))\n",
    "max_trip_count = trip_count_df.agg(max(\"trip_count\")).collect()[0][0]\n",
    "max_trip_customer_df = trip_count_df.filter(trip_count_df[\"trip_count\"] == max_trip_count)\n",
    "max_trip_customer_df.show()"
   ]
  },
  {
   "cell_type": "markdown",
   "id": "715a68d0-d9f9-4c11-82a9-458e5d5bc9de",
   "metadata": {},
   "source": [
    "8.who is the driver completed highest no of\n",
    "rides."
   ]
  },
  {
   "cell_type": "code",
   "execution_count": 29,
   "id": "e160521b-36f8-4baa-8a92-34c266d503d9",
   "metadata": {},
   "outputs": [
    {
     "name": "stdout",
     "output_type": "stream",
     "text": [
      "+---------+----------+\n",
      "|     Name|trip_count|\n",
      "+---------+----------+\n",
      "|  Mathian|         2|\n",
      "|   Teresa|         2|\n",
      "|    Mayne|         2|\n",
      "|Westbrook|         2|\n",
      "|    Debor|         2|\n",
      "|   Raeann|         2|\n",
      "|      Gus|         2|\n",
      "|  Othello|         2|\n",
      "|  Frazier|         2|\n",
      "| Roderigo|         2|\n",
      "|   Bidget|         2|\n",
      "|  Lisetta|         2|\n",
      "+---------+----------+\n",
      "\n"
     ]
    }
   ],
   "source": [
    "from pyspark.sql.functions import count, max\n",
    "trip_count_df = Admin_df.groupBy(\"Name\").agg(count(\"Name\").alias(\"trip_count\"))\n",
    "max_trip_count = trip_count_df.agg(max(\"trip_count\")).collect()[0][0]\n",
    "max_trip_customer_df = trip_count_df.filter(trip_count_df[\"trip_count\"] == max_trip_count)\n",
    "max_trip_customer_df.show()"
   ]
  },
  {
   "cell_type": "markdown",
   "id": "d42f2e98-5533-4fed-9d7c-3b717bcfe108",
   "metadata": {},
   "source": [
    "9.what are first 10 age groups which uses\n",
    "uber services mostly."
   ]
  },
  {
   "cell_type": "code",
   "execution_count": 9,
   "id": "eb35ba90-33f5-45f7-bf4b-fe5f49300a65",
   "metadata": {},
   "outputs": [
    {
     "name": "stdout",
     "output_type": "stream",
     "text": [
      "+---+-----------------+\n",
      "|Age|customer_agecount|\n",
      "+---+-----------------+\n",
      "| 69|               16|\n",
      "| 15|               15|\n",
      "| 32|               15|\n",
      "| 28|               12|\n",
      "| 78|               11|\n",
      "| 43|               11|\n",
      "| 49|               11|\n",
      "| 21|               11|\n",
      "| 23|               10|\n",
      "| 44|               10|\n",
      "+---+-----------------+\n",
      "\n"
     ]
    }
   ],
   "source": [
    "from pyspark.sql.functions import count, col\n",
    "result = Admin_df.groupBy(\"Age\").agg(count(\"Riders_Name\").alias(\"customer_agecount\"))\n",
    "result = result.orderBy(col(\"customer_agecount\").desc()).limit(10)\n",
    "result.show()"
   ]
  },
  {
   "cell_type": "markdown",
   "id": "2bb2c729-c797-4e01-b3d7-cd106cf873ce",
   "metadata": {},
   "source": [
    "10.what is the count of different destination locations from same start location and also completed ride"
   ]
  },
  {
   "cell_type": "code",
   "execution_count": 42,
   "id": "f0099dbf-c269-4d18-9b47-f26a8548c097",
   "metadata": {},
   "outputs": [
    {
     "name": "stdout",
     "output_type": "stream",
     "text": [
      "+-----------------+---------------------+\n",
      "|           Source|distinct_destinations|\n",
      "+-----------------+---------------------+\n",
      "|      Fort Pierce|                   31|\n",
      "|  Lower Manhattan|                    7|\n",
      "|          Midtown|                   19|\n",
      "|     Midtown East|                   11|\n",
      "|Flatiron District|                    9|\n",
      "|      East Harlem|                    8|\n",
      "|    Hudson Square|                    7|\n",
      "|  West Palm Beach|                   23|\n",
      "|          Jamaica|                    8|\n",
      "|             Cary|                   15|\n",
      "|         New York|                    8|\n",
      "|         Elmhurst|                    8|\n",
      "+-----------------+---------------------+\n",
      "\n"
     ]
    }
   ],
   "source": [
    "from pyspark.sql.functions import  countDistinct, col\n",
    "completed_rides_df = Admin_df.filter(Admin_df[\"Status\"] == \"Arrived\")\n",
    "result = completed_rides_df.groupBy(\"Source\").agg(countDistinct(\"Destination\").alias(\"distinct_destinations\"))\n",
    "result.show()\n"
   ]
  },
  {
   "cell_type": "markdown",
   "id": "0474bd43-0796-432e-9175-a61bed027f23",
   "metadata": {},
   "source": [
    "Find the most expensive trip"
   ]
  },
  {
   "cell_type": "code",
   "execution_count": 4,
   "id": "b09c10a6-6c71-4272-8013-a5cb64250452",
   "metadata": {},
   "outputs": [
    {
     "name": "stdout",
     "output_type": "stream",
     "text": [
      "+----+------+-----------+----------+\n",
      "|Name|Source|Destination|Final_cost|\n",
      "+----+------+-----------+----------+\n",
      "| Ely|  Cary|       Cary|    5406.0|\n",
      "+----+------+-----------+----------+\n",
      "\n"
     ]
    }
   ],
   "source": [
    "from pyspark.sql.functions import max\n",
    "Admin_df.filter(Admin_df[\"Final_cost\"] == Admin_df.agg(max(\"Final_cost\")).collect()[0][0]).select(\"Name\", \"Source\", \"Destination\",\"Final_cost\").show()\n",
    "\n"
   ]
  },
  {
   "cell_type": "code",
   "execution_count": null,
   "id": "c3fbe3a1-fba5-4311-b899-f527702cc6bf",
   "metadata": {},
   "outputs": [],
   "source": []
  }
 ],
 "metadata": {
  "kernelspec": {
   "display_name": "PySpark",
   "language": "python",
   "name": "pyspark"
  },
  "language_info": {
   "codemirror_mode": {
    "name": "ipython",
    "version": 3
   },
   "file_extension": ".py",
   "mimetype": "text/x-python",
   "name": "python",
   "nbconvert_exporter": "python",
   "pygments_lexer": "ipython3",
   "version": "3.11.0"
  }
 },
 "nbformat": 4,
 "nbformat_minor": 5
}
