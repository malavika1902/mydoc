{
 "cells": [
  {
   "cell_type": "markdown",
   "id": "d05ba8e4-d5e8-44b3-8df9-ddcba8c0bb5b",
   "metadata": {},
   "source": [
    "python\n"
   ]
  },
  {
   "cell_type": "code",
   "execution_count": 1,
   "id": "b45a52ac-19c1-4754-9f82-8395343e29aa",
   "metadata": {},
   "outputs": [
    {
     "name": "stdout",
     "output_type": "stream",
     "text": [
      "VALUE OF a 10 AND VALUE OF b 20\n",
      "VALUE OF a 20 AND VALUE OF b 10\n",
      "VALUE OF a 20 AND VALUE OF b 10\n",
      "10 20\n"
     ]
    }
   ],
   "source": [
    "a=10\n",
    "b=20\n",
    "print(\"VALUE OF a {} AND VALUE OF b {}\".format(a,b))\n",
    "print(\"VALUE OF a {} AND VALUE OF b {}\".format(b,a))\n",
    "print(\"VALUE OF a {0} AND VALUE OF b {1}\".format(b,a))\n",
    "print(a,b)"
   ]
  },
  {
   "cell_type": "code",
   "execution_count": 3,
   "id": "327b327f-770d-4f88-9d57-dd904deea80f",
   "metadata": {},
   "outputs": [
    {
     "name": "stdout",
     "output_type": "stream",
     "text": [
      "i love my country and  name_is india\n"
     ]
    }
   ],
   "source": [
    "my= 'country'; name_is='india'\n",
    "print('i love my {1} and  name_is {0}'.format(name_is,my))\n",
    "      "
   ]
  },
  {
   "cell_type": "code",
   "execution_count": 4,
   "id": "36090cf5-2730-4274-84b4-d439fc4cb945",
   "metadata": {},
   "outputs": [
    {
     "name": "stdout",
     "output_type": "stream",
     "text": [
      "my name is BILL,GATE from MICROSOFT\n"
     ]
    }
   ],
   "source": [
    "print('my name is {},{} from {}'.format('BILL','GATE','MICROSOFT'))"
   ]
  },
  {
   "cell_type": "code",
   "execution_count": 5,
   "id": "1a7e9900-51c0-45d0-a8dc-2472c77ab474",
   "metadata": {},
   "outputs": [
    {
     "name": "stdin",
     "output_type": "stream",
     "text": [
      "Enter a value: 2\n"
     ]
    },
    {
     "name": "stdout",
     "output_type": "stream",
     "text": [
      "2\n"
     ]
    }
   ],
   "source": [
    "n=input('Enter a value:')\n",
    "print(n)"
   ]
  },
  {
   "cell_type": "code",
   "execution_count": 7,
   "id": "89ab457b-5ab9-4d59-a2ca-204199f79f46",
   "metadata": {},
   "outputs": [
    {
     "name": "stdin",
     "output_type": "stream",
     "text": [
      "enter the 1st value: 23\n",
      "enter the 2nd value: 45\n",
      "enter the 3rd value 432\n"
     ]
    },
    {
     "name": "stdout",
     "output_type": "stream",
     "text": [
      "('23', '45', '432')\n"
     ]
    }
   ],
   "source": [
    "x=input(\"enter the 1st value:\"),input(\"enter the 2nd value:\"),input(\"enter the 3rd value\")\n",
    "print(x)"
   ]
  },
  {
   "cell_type": "code",
   "execution_count": 8,
   "id": "c4324b58-df3d-498f-8d65-b697012671c5",
   "metadata": {},
   "outputs": [
    {
     "name": "stdout",
     "output_type": "stream",
     "text": [
      "True\n",
      "False\n",
      "True\n"
     ]
    }
   ],
   "source": [
    "a=True\n",
    "b=False\n",
    "print(not b)\n",
    "print(a and b)\n",
    "print(a or b)"
   ]
  },
  {
   "cell_type": "code",
   "execution_count": 10,
   "id": "52c326d0-b852-433e-afed-88ec3fe35325",
   "metadata": {},
   "outputs": [
    {
     "name": "stdout",
     "output_type": "stream",
     "text": [
      "True\n",
      "False\n",
      "140707670971240\n",
      "140707670971240\n"
     ]
    }
   ],
   "source": [
    "a=3\n",
    "b=3\n",
    "print(a is b)\n",
    "print(a is not b)\n",
    "print(id(a))\n",
    "print(id(b))"
   ]
  },
  {
   "cell_type": "code",
   "execution_count": 11,
   "id": "84ce4cc8-f427-4dc1-9a66-83bfa69c7f3e",
   "metadata": {},
   "outputs": [
    {
     "name": "stdout",
     "output_type": "stream",
     "text": [
      "False\n"
     ]
    }
   ],
   "source": [
    "l1=[0,1,2]\n",
    "l2=[0,1,2]\n",
    "print(l1 is l2)"
   ]
  },
  {
   "cell_type": "code",
   "execution_count": 12,
   "id": "360fd6f2-2929-4c20-a148-73d348c0e77c",
   "metadata": {},
   "outputs": [
    {
     "name": "stdout",
     "output_type": "stream",
     "text": [
      "True\n"
     ]
    }
   ],
   "source": [
    "l2={2:'a',1:'b'}\n",
    "print(1 in l2)"
   ]
  },
  {
   "cell_type": "code",
   "execution_count": 17,
   "id": "727d8d02-23dc-408a-9fe5-0047e831608d",
   "metadata": {},
   "outputs": [
    {
     "name": "stdout",
     "output_type": "stream",
     "text": [
      "x is positive no\n"
     ]
    }
   ],
   "source": [
    "x=5\n",
    "if(x>0):\n",
    "    print(\"x is positive no\")\n",
    "else:\n",
    "    print(\"x is negative no\")"
   ]
  },
  {
   "cell_type": "code",
   "execution_count": 18,
   "id": "19cfed6c-5da8-421e-bb26-4057b0eac30f",
   "metadata": {},
   "outputs": [
    {
     "name": "stdout",
     "output_type": "stream",
     "text": [
      "1st division\n"
     ]
    }
   ],
   "source": [
    "n=19\n",
    "if (n>=10 and 20>n):\n",
    "    print(\"1st division\")\n",
    "elif (n>10 and 20<n):\n",
    "    print(\"2nd division\")\n",
    "else:\n",
    "    print(\"fail\")"
   ]
  },
  {
   "cell_type": "code",
   "execution_count": 19,
   "id": "df5b91e6-fbd4-43ed-80a9-9d929cdeb0df",
   "metadata": {},
   "outputs": [
    {
     "name": "stdout",
     "output_type": "stream",
     "text": [
      "100\n"
     ]
    }
   ],
   "source": [
    "lst=-100\n",
    "print(abs(lst))\n"
   ]
  },
  {
   "cell_type": "code",
   "execution_count": 20,
   "id": "afefa566-8470-4402-b729-4c90bf834d8a",
   "metadata": {},
   "outputs": [
    {
     "name": "stdout",
     "output_type": "stream",
     "text": [
      "True\n"
     ]
    }
   ],
   "source": [
    "lst=[1,2,-4]\n",
    "print(all(lst))"
   ]
  },
  {
   "cell_type": "code",
   "execution_count": 21,
   "id": "c863184d-2a18-4d80-95c3-a51fd53c1901",
   "metadata": {},
   "outputs": [
    {
     "name": "stdout",
     "output_type": "stream",
     "text": [
      "True\n"
     ]
    }
   ],
   "source": [
    "l=[7,8,6]\n",
    "print(all(l))"
   ]
  },
  {
   "cell_type": "code",
   "execution_count": 23,
   "id": "2eaa5420-3d84-4a98-85bd-8553461217e4",
   "metadata": {},
   "outputs": [
    {
     "name": "stdout",
     "output_type": "stream",
     "text": [
      "False\n"
     ]
    }
   ],
   "source": [
    "l=[0,9]\n",
    "print(all(l))"
   ]
  },
  {
   "cell_type": "code",
   "execution_count": 24,
   "id": "7efc02e1-ed65-4807-9f50-a7f7be65559b",
   "metadata": {},
   "outputs": [
    {
     "name": "stdout",
     "output_type": "stream",
     "text": [
      "True\n"
     ]
    }
   ],
   "source": [
    "i=[]\n",
    "print(all(i))"
   ]
  },
  {
   "cell_type": "code",
   "execution_count": 28,
   "id": "f0e9454d-1b22-4eb3-b2c5-6ef4f12ce713",
   "metadata": {},
   "outputs": [
    {
     "name": "stdout",
     "output_type": "stream",
     "text": [
      "<class 'list'>\n",
      "['__add__', '__class__', '__class_getitem__', '__contains__', '__delattr__', '__delitem__', '__dir__', '__doc__', '__eq__', '__format__', '__ge__', '__getattribute__', '__getitem__', '__getstate__', '__gt__', '__hash__', '__iadd__', '__imul__', '__init__', '__init_subclass__', '__iter__', '__le__', '__len__', '__lt__', '__mul__', '__ne__', '__new__', '__reduce__', '__reduce_ex__', '__repr__', '__reversed__', '__rmul__', '__setattr__', '__setitem__', '__sizeof__', '__str__', '__subclasshook__', 'append', 'clear', 'copy', 'count', 'extend', 'index', 'insert', 'pop', 'remove', 'reverse', 'sort']\n",
      "-------------------------\n",
      "<class 'tuple'>\n",
      "['__add__', '__class__', '__class_getitem__', '__contains__', '__delattr__', '__dir__', '__doc__', '__eq__', '__format__', '__ge__', '__getattribute__', '__getitem__', '__getnewargs__', '__getstate__', '__gt__', '__hash__', '__init__', '__init_subclass__', '__iter__', '__le__', '__len__', '__lt__', '__mul__', '__ne__', '__new__', '__reduce__', '__reduce_ex__', '__repr__', '__rmul__', '__setattr__', '__sizeof__', '__str__', '__subclasshook__', 'count', 'index']\n"
     ]
    }
   ],
   "source": [
    "l=[]\n",
    "print(type(l))\n",
    "print(dir(l))\n",
    "print(\"-------------------------\")\n",
    "l2=tuple(l)\n",
    "print(type(l2))\n",
    "print(dir(l2))"
   ]
  },
  {
   "cell_type": "code",
   "execution_count": 29,
   "id": "ddde92aa-d941-433b-aea2-43d3d5622010",
   "metadata": {},
   "outputs": [
    {
     "name": "stdout",
     "output_type": "stream",
     "text": [
      "(11, 1)\n"
     ]
    }
   ],
   "source": [
    "print(divmod(34,3))"
   ]
  },
  {
   "cell_type": "code",
   "execution_count": 31,
   "id": "56963839-2232-453f-b996-da27fe659e0e",
   "metadata": {},
   "outputs": [
    {
     "name": "stdout",
     "output_type": "stream",
     "text": [
      "index 0 has value 10\n",
      "index 1 has value 20\n",
      "index 2 has value 30\n",
      "index 3 has value 40\n"
     ]
    }
   ],
   "source": [
    "l=[10,20,30,40]\n",
    "for index, num in enumerate(l,start=0):\n",
    "    print(\"index {0} has value {1}\".format(index,num))"
   ]
  },
  {
   "cell_type": "code",
   "execution_count": 33,
   "id": "7a03d97a-e922-4031-9959-bcfe3f7d3143",
   "metadata": {},
   "outputs": [
    {
     "data": {
      "text/plain": [
       "2"
      ]
     },
     "execution_count": 33,
     "metadata": {},
     "output_type": "execute_result"
    }
   ],
   "source": [
    "def check_positive_no(num):\n",
    "    if num>0:\n",
    "        return num\n",
    "check_positive_no(2)        "
   ]
  },
  {
   "cell_type": "code",
   "execution_count": 38,
   "id": "b3fc0647-67bd-4e9d-a4c0-5582e40a5fff",
   "metadata": {},
   "outputs": [
    {
     "name": "stdout",
     "output_type": "stream",
     "text": [
      "[-10, -9, -8, -7, -6, -5, -4, -3, -2, -1, 0, 1, 2, 3, 4, 5, 6, 7, 8, 9]\n",
      "<class 'range'>\n",
      "-9\n",
      "-7\n",
      "-5\n",
      "-3\n",
      "-1\n",
      "1\n",
      "3\n",
      "5\n",
      "7\n",
      "9\n"
     ]
    }
   ],
   "source": [
    "lst1=range(-10,10)\n",
    "print(list(lst1))\n",
    "print(type(lst1))\n",
    "lst2=list(filter(lambda n:n%2!=0,lst1))\n",
    "for i in lst2:\n",
    "    print(i)"
   ]
  },
  {
   "cell_type": "code",
   "execution_count": 42,
   "id": "e10169c6-82dc-42f0-b13a-ee01f044b883",
   "metadata": {},
   "outputs": [
    {
     "name": "stdout",
     "output_type": "stream",
     "text": [
      "[1, 4, 9]\n",
      "[1, 8, 27]\n"
     ]
    }
   ],
   "source": [
    "lst=[1,2,3]\n",
    "sqred=[]\n",
    "sqred1=[]\n",
    "for num in lst:\n",
    "    sqred.append(num **2)\n",
    "    sqred1.append(num **3)\n",
    "\n",
    "print(sqred)\n",
    "print(sqred1)"
   ]
  },
  {
   "cell_type": "code",
   "execution_count": 43,
   "id": "4a0bd9ce-12f8-443c-8e3f-1d5560a59968",
   "metadata": {},
   "outputs": [
    {
     "name": "stdout",
     "output_type": "stream",
     "text": [
      "[1, 4, 9]\n"
     ]
    }
   ],
   "source": [
    "def hallsquare(num):\n",
    "    return (num **2)\n",
    "\n",
    "sqred=list(map(lambda x:x**2,[1,2,3]))\n",
    "print(sqred)"
   ]
  },
  {
   "cell_type": "code",
   "execution_count": 48,
   "id": "469b0683-2098-438e-8f00-32f2c288b4db",
   "metadata": {},
   "outputs": [
    {
     "name": "stdout",
     "output_type": "stream",
     "text": [
      "6\n"
     ]
    }
   ],
   "source": [
    "prdt=1\n",
    "lst=[1,2,3]\n",
    "for  num in lst:\n",
    "    prdt *= num\n",
    "print(prdt)"
   ]
  },
  {
   "cell_type": "code",
   "execution_count": 51,
   "id": "5518a4f5-b66d-40f7-9560-813ae42bb5b5",
   "metadata": {},
   "outputs": [
    {
     "name": "stdout",
     "output_type": "stream",
     "text": [
      "6\n"
     ]
    }
   ],
   "source": [
    "from functools import reduce\n",
    "def multiply(x,y):\n",
    "    return x*y;\n",
    "prdt=reduce(lambda x,y: x*y,lst)\n",
    "print(prdt)\n",
    "    "
   ]
  },
  {
   "cell_type": "code",
   "execution_count": null,
   "id": "65f1c8f8-052b-4db3-be0e-7fd23cb7d9ad",
   "metadata": {},
   "outputs": [
    {
     "name": "stdin",
     "output_type": "stream",
     "text": [
      "select operation 1-4: 4\n",
      "enter the first no: g\n"
     ]
    },
    {
     "name": "stdout",
     "output_type": "stream",
     "text": [
      "Enter an integer\n"
     ]
    }
   ],
   "source": [
    "def addition(n1,n2):\n",
    "    return n1+n2\n",
    "def subtraction(n1,n2):\n",
    "    return n1-n2\n",
    "def multiplication(n1,n2):\n",
    "    return n1*n2\n",
    "def division(n1,n2):\n",
    "    return n1/n2\n",
    "\n",
    "(\"SELECT ONE OF THE OPERATIONS:\\n\" \" 1. ADDITION\\n\" ,\"2.SUBTRACTION\\n\", \"3. MULTIPLICATION\\n\",\"4. DIVISION\")\n",
    "sel=int(input(\"select operation 1-4:\"))\n",
    "try:\n",
    "    n1=int(input(\"enter the first no:\"))\n",
    "    n2=int(input(\"enter the second no:\"))\n",
    "except ValueError:\n",
    "    print(\"Enter an integer\")\n",
    "    n1=int(input(\"enter the first no:\"))\n",
    "    n2=int(input(\"enter the second no:\"))\n",
    "\n",
    "if sel==1:\n",
    "    result= addition(n1,n2)\n",
    "elif sel==2:\n",
    "    result=subtraction(n1,n2)\n",
    "elif sel==3:\n",
    "    result=multiplication(n1,n2)\n",
    "elif sel==4:\n",
    "    result=division(n1,n2)\n",
    "    \n",
    "    \n",
    "\n",
    "print(\"result={}\".format(result))\n",
    "\n",
    "    "
   ]
  },
  {
   "cell_type": "code",
   "execution_count": null,
   "id": "146bb1cb-296f-4620-9d7c-b442e02619e2",
   "metadata": {},
   "outputs": [],
   "source": []
  }
 ],
 "metadata": {
  "kernelspec": {
   "display_name": "Python 3 (ipykernel)",
   "language": "python",
   "name": "python3"
  },
  "language_info": {
   "codemirror_mode": {
    "name": "ipython",
    "version": 3
   },
   "file_extension": ".py",
   "mimetype": "text/x-python",
   "name": "python",
   "nbconvert_exporter": "python",
   "pygments_lexer": "ipython3",
   "version": "3.11.0"
  }
 },
 "nbformat": 4,
 "nbformat_minor": 5
}
