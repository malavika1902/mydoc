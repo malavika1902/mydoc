{
 "cells": [
  {
   "cell_type": "code",
   "execution_count": 1,
   "id": "9489237c-c7b9-4ddc-8e22-3edd6474c7ff",
   "metadata": {},
   "outputs": [
    {
     "name": "stdout",
     "output_type": "stream",
     "text": [
      "value is: b\n",
      "oopsiee (<class 'ValueError'>, ValueError(\"invalid literal for int() with base 10: 'b'\"), <traceback object at 0x0000024A073E3C00>) occured\n",
      "new entry please\n",
      "value is: 0\n",
      "oopsiee (<class 'ZeroDivisionError'>, ZeroDivisionError('division by zero'), <traceback object at 0x0000024A073E2740>) occured\n",
      "new entry please\n",
      "value is: 2\n",
      "the reciprocal of  2 is 0.5\n"
     ]
    }
   ],
   "source": [
    "#import module sys to get the type of extension\n",
    "import sys\n",
    "lst=['b',0,2]\n",
    "for entry in lst:\n",
    "    try:\n",
    "        print(\"value is:\",entry)\n",
    "        k=1/int(entry)\n",
    "    except:\n",
    "        print(\"oopsiee\",sys.exc_info(),\"occured\")#sys.exc_info[]\n",
    "        print(\"new entry please\")\n",
    "print(\"the reciprocal of \",entry,\"is\",k)"
   ]
  },
  {
   "cell_type": "code",
   "execution_count": 2,
   "id": "f077a9cd-6678-452c-a968-3f9771f19aba",
   "metadata": {},
   "outputs": [
    {
     "ename": "IndentationError",
     "evalue": "expected an indented block after 'for' statement on line 3 (1566453524.py, line 4)",
     "output_type": "error",
     "traceback": [
      "  \u001b[36mCell\u001b[39m\u001b[36m \u001b[39m\u001b[32mIn[2]\u001b[39m\u001b[32m, line 4\u001b[39m\n\u001b[31m    \u001b[39m\u001b[31mtry:\u001b[39m\n    ^\n\u001b[31mIndentationError\u001b[39m\u001b[31m:\u001b[39m expected an indented block after 'for' statement on line 3\n"
     ]
    }
   ],
   "source": [
    "import sys\n",
    "lst=['b',0,2]\n",
    "for entry in lst:\n",
    "try:\n",
    "    print(\"+++++++++++++++++++\")\n",
    "    print(\"value is:\",entry)\n",
    "    k=1/int(entry)\n",
    "\n",
    "except(ValueError):\n",
    "    print(\"this is the ValueError\")\n",
    "except(ZeroDivisionEror):\n",
    "    print(\"this is the ZeroDivisionError\")\n",
    "except:\n",
    "    print(\"Other error\")\n",
    "print(\"the reciprocal of \",entry,\"is\",k)"
   ]
  },
  {
   "cell_type": "code",
   "execution_count": 13,
   "id": "d19b1093-8ba2-4f7b-abc1-f590f6ef3d99",
   "metadata": {},
   "outputs": [
    {
     "ename": "SyntaxError",
     "evalue": "(unicode error) 'unicodeescape' codec can't decode bytes in position 0-1: truncated \\UXXXXXXXX escape (408704790.py, line 2)",
     "output_type": "error",
     "traceback": [
      "  \u001b[36mCell\u001b[39m\u001b[36m \u001b[39m\u001b[32mIn[13]\u001b[39m\u001b[32m, line 2\u001b[39m\n\u001b[31m    \u001b[39m\u001b[31mos.chdir(\"\\Users\\Administrator\")\u001b[39m\n                                   ^\n\u001b[31mSyntaxError\u001b[39m\u001b[31m:\u001b[39m (unicode error) 'unicodeescape' codec can't decode bytes in position 0-1: truncated \\UXXXXXXXX escape\n"
     ]
    }
   ],
   "source": [
    "import os\n",
    "os.chdir(\"\\Users\\Administrator\")\n",
    "try:\n",
    "    f= open(\"pr.txt\")\n",
    "    #perform file operation\n",
    "finally:\n",
    "    print(\"final closed\")\n",
    "    f.close()"
   ]
  },
  {
   "cell_type": "code",
   "execution_count": 9,
   "id": "70585d4e-d966-4c89-9254-7187502b9131",
   "metadata": {},
   "outputs": [
    {
     "data": {
      "text/plain": [
       "'C:\\\\Users\\\\Administrator'"
      ]
     },
     "execution_count": 9,
     "metadata": {},
     "output_type": "execute_result"
    }
   ],
   "source": [
    "os.getcwd()"
   ]
  },
  {
   "cell_type": "code",
   "execution_count": 2,
   "id": "e7508fee-5864-4063-960d-6854ffbb11f6",
   "metadata": {},
   "outputs": [
    {
     "name": "stdout",
     "output_type": "stream",
     "text": [
      "something went wrong to file\n"
     ]
    }
   ],
   "source": [
    "import os\n",
    "try:\n",
    "    f=open('p.txt')\n",
    "except:\n",
    "    print('something went wrong to file')"
   ]
  },
  {
   "cell_type": "code",
   "execution_count": 3,
   "id": "ba244f95-c96a-48b7-8577-7c3fae70c867",
   "metadata": {},
   "outputs": [
    {
     "name": "stderr",
     "output_type": "stream",
     "text": [
      "WARNING:root:This is a warning\n",
      "ERROR:root:An error occured\n",
      "CRITICAL:root:critical issue!\n"
     ]
    }
   ],
   "source": [
    "import logging\n",
    "logging.basicConfig(level=logging.info)\n",
    "logging.debug('This is a debug message')\n",
    "logging.info(\"App started\")\n",
    "logging.warning('This is a warning')\n",
    "logging.error('An error occured')\n",
    "logging.critical(\"critical issue!\")"
   ]
  },
  {
   "cell_type": "code",
   "execution_count": null,
   "id": "48af71b5-8ce7-47c8-9439-1155fc5b043a",
   "metadata": {},
   "outputs": [],
   "source": []
  }
 ],
 "metadata": {
  "kernelspec": {
   "display_name": "Python 3 (ipykernel)",
   "language": "python",
   "name": "python3"
  },
  "language_info": {
   "codemirror_mode": {
    "name": "ipython",
    "version": 3
   },
   "file_extension": ".py",
   "mimetype": "text/x-python",
   "name": "python",
   "nbconvert_exporter": "python",
   "pygments_lexer": "ipython3",
   "version": "3.11.0"
  }
 },
 "nbformat": 4,
 "nbformat_minor": 5
}
